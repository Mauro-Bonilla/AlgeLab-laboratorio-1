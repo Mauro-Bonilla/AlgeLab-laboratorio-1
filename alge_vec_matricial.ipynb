{
 "cells": [
  {
   "cell_type": "markdown",
   "metadata": {},
   "source": [
    "# Introducción a NumPy para Álgebra Lineal"
   ]
  },
  {
   "cell_type": "markdown",
   "metadata": {},
   "source": [
    "## Módulo Básico - AlgeLab"
   ]
  },
  {
   "cell_type": "markdown",
   "metadata": {},
   "source": [
    "NumPy (Numerical Python) es una biblioteca fundamental para computación científica en Python. Este módulo introduce las funcionalidades básicas necesarias para álgebra lineal."
   ]
  },
  {
   "cell_type": "markdown",
   "metadata": {},
   "source": [
    "### Recursos Adicionales\n",
    "- Documentación oficial de NumPy: https://numpy.org/doc/\n",
    "- Guía de referencia rápida de NumPy: https://numpy.org/doc/stable/user/quickstart.html"
   ]
  },
  {
   "cell_type": "markdown",
   "metadata": {},
   "source": [
    "### 1.1 Vectores en Python"
   ]
  },
  {
   "cell_type": "markdown",
   "metadata": {},
   "source": [
    "En álgebra lineal, un vector es una lista ordenada de números. En Python, los creamos así:"
   ]
  },
  {
   "cell_type": "code",
   "execution_count": null,
   "metadata": {},
   "outputs": [],
   "source": [
    "# Creando vectores usando NumPy\n",
    "vector_1 = np.array([1, 2])     # Vector en R²\n",
    "vector_2 = np.array([1, 2, 3])  # Vector en R³\n",
    "\n",
    "# Visualizando nuestros vectores\n",
    "print(\"Vector en R²:\", vector_1)\n",
    "print(\"Vector en R³:\", vector_2)\n",
    "\n",
    "# Dimensión de los vectores\n",
    "print(\"Dimensión del primer vector:\", len(vector_1))\n",
    "print(\"Dimensión del segundo vector:\", len(vector_2))"
   ]
  },
  {
   "cell_type": "markdown",
   "metadata": {},
   "source": [
    "### 1.2 Espacios Vectoriales"
   ]
  },
  {
   "cell_type": "markdown",
   "metadata": {},
   "source": [
    "Un espacio vectorial es un conjunto donde podemos sumar vectores y multiplicarlos por números.\n",
    "Veamos las operaciones básicas:"
   ]
  },
  {
   "cell_type": "code",
   "execution_count": 3,
   "metadata": {},
   "outputs": [],
   "source": [
    "# Operaciones básicas en R²\n",
    "v = np.array([1, 2])\n",
    "w = np.array([3, 4])"
   ]
  },
  {
   "cell_type": "code",
   "execution_count": 4,
   "metadata": {},
   "outputs": [
    {
     "name": "stdout",
     "output_type": "stream",
     "text": [
      "\n",
      "Suma de vectores:\n",
      "[1 2] + [3 4] = [4 6]\n"
     ]
    }
   ],
   "source": [
    "# 1. Suma de vectores\n",
    "suma = v + w\n",
    "print(\"\\nSuma de vectores:\")\n",
    "print(f\"{v} + {w} = {suma}\")"
   ]
  },
  {
   "cell_type": "code",
   "execution_count": 5,
   "metadata": {},
   "outputs": [
    {
     "name": "stdout",
     "output_type": "stream",
     "text": [
      "\n",
      "Multiplicación por escalar:\n",
      "2 * [1 2] = [2 4]\n"
     ]
    }
   ],
   "source": [
    "# 2. Multiplicación por escalar\n",
    "escalar = 2\n",
    "producto = escalar * v\n",
    "print(\"\\nMultiplicación por escalar:\")\n",
    "print(f\"{escalar} * {v} = {producto}\")"
   ]
  },
  {
   "cell_type": "code",
   "execution_count": 10,
   "metadata": {},
   "outputs": [
    {
     "name": "stdout",
     "output_type": "stream",
     "text": [
      "\n",
      "Movimiento en el plano:\n",
      "Posición inicial: [0 0]\n",
      "Desplazamiento 1: [2 3]\n",
      "Desplazamiento 2: [4 7]\n",
      "Posición final: [ 6 10]\n"
     ]
    }
   ],
   "source": [
    "# Ejemplo práctico: Movimiento en el plano\n",
    "posicion_inicial = np.array([0, 0])    # Origen\n",
    "desplazamiento1 = np.array([2, 3])      # Movimiento\n",
    "desplazamiento2 = np.array([4, 7])      # Movimiento\n",
    "posicion_final = posicion_inicial + desplazamiento1 + desplazamiento2\n",
    "\n",
    "print(\"\\nMovimiento en el plano:\")\n",
    "print(f\"Posición inicial: {posicion_inicial}\")\n",
    "print(f\"Desplazamiento 1: {desplazamiento1}\")\n",
    "print(f\"Desplazamiento 2: {desplazamiento2}\")\n",
    "print(f\"Posición final: {posicion_final}\")"
   ]
  },
  {
   "cell_type": "markdown",
   "metadata": {},
   "source": [
    "### 1.3 Combinaciones Lineales"
   ]
  },
  {
   "cell_type": "markdown",
   "metadata": {},
   "source": [
    "Una combinación lineal es el resultado de multiplicar vectores por números y sumarlos:"
   ]
  },
  {
   "cell_type": "code",
   "execution_count": 9,
   "metadata": {},
   "outputs": [
    {
     "name": "stdout",
     "output_type": "stream",
     "text": [
      "Vectores:\n",
      "v: [1 0]\n",
      "w: [0 1]\n",
      "\n",
      "Combinación lineal: 2v + 3w = [2 3]\n"
     ]
    }
   ],
   "source": [
    "# Vectores  en R²\n",
    "v = np.array([1, 0])\n",
    "w = np.array([0, 1])\n",
    "\n",
    "print(\"Vectores:\")\n",
    "print(f\"v: {v}\")\n",
    "print(f\"w: {w}\")\n",
    "\n",
    "# Creando un nuevo vector como combinación lineal\n",
    "a = 2  # Coeficiente para e1\n",
    "b = 3  # Coeficiente para e2\n",
    "\n",
    "nuevo_vector = a * v + b * w\n",
    "print(f\"\\nCombinación lineal: {a}v + {b}w = {nuevo_vector}\")"
   ]
  },
  {
   "cell_type": "markdown",
   "metadata": {},
   "source": [
    "### 1.4 Independencia Lineal"
   ]
  },
  {
   "cell_type": "markdown",
   "metadata": {},
   "source": [
    "Dos vectores son linealmente independientes si ninguno se puede obtener como múltiplo del otro:"
   ]
  },
  {
   "cell_type": "code",
   "execution_count": 12,
   "metadata": {},
   "outputs": [
    {
     "name": "stdout",
     "output_type": "stream",
     "text": [
      "Vectores independientes:\n",
      "v1: [1 0]\n",
      "v2: [0 1]\n"
     ]
    }
   ],
   "source": [
    "# Ejemplo 1: Vectores linealmente independientes\n",
    "v1 = np.array([1, 0])\n",
    "v2 = np.array([0, 1])\n",
    "\n",
    "print(\"Vectores independientes:\")\n",
    "print(f\"v1: {v1}\")\n",
    "print(f\"v2: {v2}\")"
   ]
  },
  {
   "cell_type": "code",
   "execution_count": 13,
   "metadata": {},
   "outputs": [
    {
     "name": "stdout",
     "output_type": "stream",
     "text": [
      "\n",
      "Multiplicando v1 por escalares:\n",
      "2 * v1 = [2 0]\n",
      "3 * v1 = [3 0]\n",
      "Observa que nunca obtenemos v2\n"
     ]
    }
   ],
   "source": [
    "# Multiplicando v1 por diferentes números\n",
    "print(\"\\nMultiplicando v1 por escalares:\")\n",
    "print(f\"2 * v1 = {2 * v1}\")\n",
    "print(f\"3 * v1 = {3 * v1}\")\n",
    "print(\"Observa que nunca obtenemos v2\")"
   ]
  },
  {
   "cell_type": "code",
   "execution_count": 14,
   "metadata": {},
   "outputs": [
    {
     "name": "stdout",
     "output_type": "stream",
     "text": [
      "\n",
      "Vectores dependientes:\n",
      "v1: [1 0]\n",
      "u1: [2 0]\n",
      "u1 es 2 veces v1\n"
     ]
    }
   ],
   "source": [
    "# Ejemplo 2: Vectores linealmente dependientes\n",
    "u1 = np.array([2, 0])  # Es múltiplo de v1\n",
    "print(\"\\nVectores dependientes:\")\n",
    "print(f\"v1: {v1}\")\n",
    "print(f\"u1: {u1}\")\n",
    "print(\"u1 es 2 veces v1\")"
   ]
  },
  {
   "cell_type": "markdown",
   "metadata": {},
   "source": [
    "### 1.5 Bases y Dimensión"
   ]
  },
  {
   "cell_type": "markdown",
   "metadata": {},
   "source": [
    "Una base es un conjunto de vectores linealmente independientes que generan todo el espacio:"
   ]
  },
  {
   "cell_type": "code",
   "execution_count": 15,
   "metadata": {},
   "outputs": [
    {
     "name": "stdout",
     "output_type": "stream",
     "text": [
      "Base canónica de R²:\n",
      "e1: [1 0]\n",
      "e2: [0 1]\n"
     ]
    }
   ],
   "source": [
    "# Base canónica de R²\n",
    "e1 = np.array([1, 0])\n",
    "e2 = np.array([0, 1])\n",
    "\n",
    "print(\"Base canónica de R²:\")\n",
    "print(f\"e1: {e1}\")\n",
    "print(f\"e2: {e2}\")"
   ]
  },
  {
   "cell_type": "code",
   "execution_count": 16,
   "metadata": {},
   "outputs": [
    {
     "name": "stdout",
     "output_type": "stream",
     "text": [
      "\n",
      "Expresando un vector en la base canónica:\n",
      "Vector: [3 2]\n",
      "Es igual a: 3e1 + 2e2\n"
     ]
    }
   ],
   "source": [
    "# Expresando vectores en términos de la base\n",
    "vector = np.array([3, 2])\n",
    "print(\"\\nExpresando un vector en la base canónica:\")\n",
    "print(f\"Vector: {vector}\")\n",
    "print(f\"Es igual a: {vector[0]}e1 + {vector[1]}e2\")"
   ]
  },
  {
   "cell_type": "markdown",
   "metadata": {},
   "source": [
    "### Ejercicios de Práctica"
   ]
  },
  {
   "cell_type": "markdown",
   "metadata": {},
   "source": [
    "1. **Crear y manipular vectores**"
   ]
  },
  {
   "cell_type": "code",
   "execution_count": 17,
   "metadata": {},
   "outputs": [],
   "source": [
    "# Ejercicio 1: Crea un vector en R² y otro en R³\n",
    "# Tu código aquí"
   ]
  },
  {
   "cell_type": "markdown",
   "metadata": {},
   "source": [
    "2. **Operaciones básicas**"
   ]
  },
  {
   "cell_type": "code",
   "execution_count": 18,
   "metadata": {},
   "outputs": [],
   "source": [
    "# Ejercicio 2: \n",
    "# a) Suma dos vectores de tu elección\n",
    "# b) Multiplica un vector por un escalar\n",
    "# Tu código aquí"
   ]
  },
  {
   "cell_type": "markdown",
   "metadata": {},
   "source": [
    "3. **Combinaciones lineales**"
   ]
  },
  {
   "cell_type": "code",
   "execution_count": 19,
   "metadata": {},
   "outputs": [],
   "source": [
    "# Ejercicio 3: Crea una combinación lineal de e1 y e2\n",
    "# usando coeficientes diferentes a los del ejemplo\n",
    "# Tu código aquí"
   ]
  }
 ],
 "metadata": {
  "kernelspec": {
   "display_name": "Python 3",
   "language": "python",
   "name": "python3"
  },
  "language_info": {
   "codemirror_mode": {
    "name": "ipython",
    "version": 3
   },
   "file_extension": ".py",
   "mimetype": "text/x-python",
   "name": "python",
   "nbconvert_exporter": "python",
   "pygments_lexer": "ipython3",
   "version": "3.11.10"
  }
 },
 "nbformat": 4,
 "nbformat_minor": 2
}
